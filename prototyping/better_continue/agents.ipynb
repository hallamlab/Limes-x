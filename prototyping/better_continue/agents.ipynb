{
 "cells": [
  {
   "cell_type": "code",
   "execution_count": 1,
   "metadata": {},
   "outputs": [
    {
     "data": {
      "text/plain": [
       "<Ambassador.7fe6fc787ed>:INFORM:[<Clerk.7fe71c779b9>:INFORM:[<Datastore.7fe6fc787e5>:ACKNOWLEDGE:None]]"
      ]
     },
     "execution_count": 1,
     "metadata": {},
     "output_type": "execute_result"
    }
   ],
   "source": [
    "from __future__ import annotations\n",
    "import os, sys\n",
    "import asyncio\n",
    "from typing import Iterable, Callable, Any\n",
    "from pathlib import Path\n",
    "\n",
    "from limes_x.agents import Outpost, Ambassador\n",
    "from limes_x.agents.data import Clerk, Datastore\n",
    "from limes_x.utils import KeyGenerator\n",
    "\n",
    "class LocalStore:\n",
    "    def __init__(self, outpost: Outpost) -> None:\n",
    "        self.agent = Datastore(\n",
    "            self._on_insert,\n",
    "            self._on_query,\n",
    "            ({\"writeable\"}, {}),\n",
    "            outpost,\n",
    "        )\n",
    "        self._keygen = KeyGenerator()\n",
    "        self._cache = {}\n",
    "        self._secondary_indexes = {}\n",
    "\n",
    "    def _new_key(self):\n",
    "        new_key = None\n",
    "        while new_key is None or new_key in self._cache:\n",
    "            new_key = self._keygen.GenerateUID()\n",
    "        return new_key\n",
    "\n",
    "    async def _on_insert(self, *args, **kwargs):\n",
    "        new_key = self._new_key()\n",
    "        self._cache[new_key] = args[0] if len(args)>0 else None\n",
    "        for k, v in kwargs.items():\n",
    "            index = self._secondary_indexes.get(k, {})\n",
    "            index[v] = index.get(v, []) + [new_key]\n",
    "            self._secondary_indexes[k] = index\n",
    "\n",
    "    async def _on_query(self, **query):\n",
    "        results: set|None = None\n",
    "        for k, v in query.items():\n",
    "            hits = self._secondary_indexes.get(k, {}).get(v, [])\n",
    "            if results is None:\n",
    "                results = set(hits)\n",
    "            else:\n",
    "                results = results.intersection(hits)\n",
    "        if results is None: results = set()\n",
    "        return [self._cache[k] for k in results]\n",
    "\n",
    "outpost = Outpost()\n",
    "clerk = Clerk(outpost)\n",
    "temp_store = LocalStore(outpost)\n",
    "\n",
    "amb = Ambassador(outpost)\n",
    "r = await amb.RegisterData(\"val a\", dtype=\"a\")\n",
    "# r = await amb.RegisterComputeModule(\"./test_modules/\")\n",
    "r"
   ]
  },
  {
   "cell_type": "code",
   "execution_count": 2,
   "metadata": {},
   "outputs": [
    {
     "data": {
      "text/plain": [
       "(['val a'], {'dtype': {'a': ['j7C3PuB15Zt2']}}, {'j7C3PuB15Zt2': 'val a'})"
      ]
     },
     "execution_count": 2,
     "metadata": {},
     "output_type": "execute_result"
    }
   ],
   "source": [
    "entry = await temp_store.agent.Query(dtype=\"a\")\n",
    "entry, temp_store._secondary_indexes, temp_store._cache"
   ]
  }
 ],
 "metadata": {
  "kernelspec": {
   "display_name": "p311",
   "language": "python",
   "name": "python3"
  },
  "language_info": {
   "codemirror_mode": {
    "name": "ipython",
    "version": 3
   },
   "file_extension": ".py",
   "mimetype": "text/x-python",
   "name": "python",
   "nbconvert_exporter": "python",
   "pygments_lexer": "ipython3",
   "version": "3.11.0"
  },
  "orig_nbformat": 4
 },
 "nbformat": 4,
 "nbformat_minor": 2
}
