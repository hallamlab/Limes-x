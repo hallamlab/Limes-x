{
 "cells": [
  {
   "cell_type": "code",
   "execution_count": null,
   "metadata": {},
   "outputs": [],
   "source": [
    "from __future__ import annotations\n",
    "import os\n",
    "import json\n",
    "from typing import Iterable, Any\n",
    "from pathlib import Path\n",
    "import pickle\n",
    "import numpy as np\n",
    "import sqlite3\n",
    "from datetime import datetime as dt\n",
    "\n",
    "from limes_x.persistence import ProjectState\n",
    "\n",
    "class Instance:\n",
    "    def __init__(self, key: str, parent: Instance|None=None) -> None:\n",
    "        self.key = key\n",
    "        self.parent = parent\n",
    "\n",
    "class RunInstance(Instance):\n",
    "    pass\n",
    "\n",
    "class DataInstance(Instance):\n",
    "    def __init__(self, key: str, value: str|Iterable[str], qualities: Iterable[str]=list(), parent: Instance|None=None) -> None:\n",
    "        super().__init__(key, parent)\n",
    "        self.dtype = DataType(qualities)\n",
    "        self.value = value\n",
    "        self.parent = parent\n"
   ]
  },
  {
   "cell_type": "code",
   "execution_count": null,
   "metadata": {},
   "outputs": [],
   "source": [
    "from typing import Iterable\n",
    "import asyncio\n",
    "import json\n",
    "\n",
    "class ComputeEnvironment:\n",
    "    pass\n",
    "\n",
    "class Executor:\n",
    "    def Run(self, plan: Plan):\n",
    "        pass\n",
    "\n",
    "class ComputeModule:\n",
    "    pass\n",
    "\n",
    "\n",
    "\n",
    "class Plan:\n",
    "    def __init__(self, given: Iterable[DataInstance], targets: Iterable[str], steps: Iterable[ComputeModule]) -> None:\n",
    "        # BFS here\n",
    "        pass\n",
    "\n",
    "class Project:\n",
    "    def __init__(self, workspace: Path|str) -> None:\n",
    "        workspace = Path(workspace)\n",
    "        self._state = ProjectState(workspace)\n",
    "\n",
    "    def RegisterData(self, value: str|Iterable[str], qualities: Iterable[str]=list(), parent: Instance|None=None):\n",
    "        return data\n",
    "\n",
    "    def RequestData(self):\n",
    "        async def work():\n",
    "            pass\n",
    "        asyncio.run(work())\n",
    "\n",
    "WS = \"./cache/man_test02\"\n",
    "if os.path.exists(WS): os.system(f\"rm -r {WS}\")\n",
    "p = Project(WS)\n",
    "acc = p.RegisterData(DataInstance(\n",
    "    \"DRR001142\",\n",
    "    qualities=[\n",
    "        \"string\",\n",
    "        \"sra accession\",\n",
    "    ],\n",
    "))\n",
    "p.RegisterData(DataInstance(\n",
    "    \"../data/DRR001142.asm.ss.fa\",\n",
    "    qualities=[\n",
    "        \"file\",\n",
    "        \"assembly\",\n",
    "        \"metagenomic\",\n",
    "    ],\n",
    "    parent=acc,\n",
    "))\n",
    "\n",
    "i_columns = \"file, \"\n",
    "inputs = [\n",
    "    ()\n",
    "]"
   ]
  },
  {
   "cell_type": "code",
   "execution_count": null,
   "metadata": {},
   "outputs": [],
   "source": [
    "with ProjectState(\"./cache/man_test01\") as p:\n",
    "    ks = []\n",
    "    for i in range(3):\n",
    "        k = p.Instances.RegisterInstance(\"data\", {\n",
    "            \"asdf\":i,\n",
    "        })\n",
    "        ks.append(k)\n",
    "    m, d = p.Instances.GetInstance(k)\n",
    "    print(m)\n",
    "    print(d)\n",
    "\n",
    "with ProjectState(\"./cache/man_test01\") as p:\n",
    "    for row in p._execute_sql(f\"select * from instances\"):\n",
    "        print(row)"
   ]
  },
  {
   "cell_type": "code",
   "execution_count": null,
   "metadata": {},
   "outputs": [],
   "source": [
    "int(dt.utcnow().timestamp())"
   ]
  },
  {
   "cell_type": "code",
   "execution_count": null,
   "metadata": {},
   "outputs": [],
   "source": [
    "dt.fromtimestamp(1686805387525/1000)"
   ]
  },
  {
   "cell_type": "code",
   "execution_count": null,
   "metadata": {},
   "outputs": [],
   "source": [
    "int(dt.utcnow().timestamp())"
   ]
  },
  {
   "cell_type": "code",
   "execution_count": null,
   "metadata": {},
   "outputs": [],
   "source": [
    "import time\n",
    "def CurrentTimeMillis():\n",
    "    return round(time.time() * 1000)\n",
    "CurrentTimeMillis()"
   ]
  },
  {
   "cell_type": "code",
   "execution_count": null,
   "metadata": {},
   "outputs": [],
   "source": [
    "\n"
   ]
  }
 ],
 "metadata": {
  "kernelspec": {
   "display_name": "p311",
   "language": "python",
   "name": "python3"
  },
  "language_info": {
   "codemirror_mode": {
    "name": "ipython",
    "version": 3
   },
   "file_extension": ".py",
   "mimetype": "text/x-python",
   "name": "python",
   "nbconvert_exporter": "python",
   "pygments_lexer": "ipython3",
   "version": "3.11.0"
  },
  "orig_nbformat": 4
 },
 "nbformat": 4,
 "nbformat_minor": 2
}
