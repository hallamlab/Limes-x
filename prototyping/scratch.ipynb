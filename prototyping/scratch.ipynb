{
 "cells": [
  {
   "cell_type": "code",
   "execution_count": 3,
   "metadata": {},
   "outputs": [
    {
     "name": "stdout",
     "output_type": "stream",
     "text": [
      "asdf <class '__main__.A'>\n"
     ]
    },
    {
     "data": {
      "text/plain": [
       "<__main__.A at 0x7f5856d40950>"
      ]
     },
     "execution_count": 3,
     "metadata": {},
     "output_type": "execute_result"
    }
   ],
   "source": [
    "# decorators are hard\n",
    "\n",
    "def dec(x):\n",
    "    def _fn(obj):\n",
    "        print(x, obj)\n",
    "        return obj\n",
    "    return _fn\n",
    "\n",
    "@dec(\"asdf\")\n",
    "class A:\n",
    "    pass\n",
    "\n",
    "A()"
   ]
  }
 ],
 "metadata": {
  "kernelspec": {
   "display_name": "p311",
   "language": "python",
   "name": "python3"
  },
  "language_info": {
   "codemirror_mode": {
    "name": "ipython",
    "version": 3
   },
   "file_extension": ".py",
   "mimetype": "text/x-python",
   "name": "python",
   "nbconvert_exporter": "python",
   "pygments_lexer": "ipython3",
   "version": "3.11.0"
  },
  "orig_nbformat": 4
 },
 "nbformat": 4,
 "nbformat_minor": 2
}
