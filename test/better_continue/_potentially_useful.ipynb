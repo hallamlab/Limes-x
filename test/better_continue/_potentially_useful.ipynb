{
 "cells": [
  {
   "cell_type": "code",
   "execution_count": 13,
   "metadata": {},
   "outputs": [
    {
     "data": {
      "text/plain": [
       "[('k', 'v')]"
      ]
     },
     "execution_count": 13,
     "metadata": {},
     "output_type": "execute_result"
    }
   ],
   "source": [
    "from enum import Enum\n",
    "\n"
   ]
  },
  {
   "cell_type": "code",
   "execution_count": 3,
   "metadata": {},
   "outputs": [
    {
     "name": "stdout",
     "output_type": "stream",
     "text": [
      "9999\n",
      "None None None\n"
     ]
    }
   ],
   "source": [
    "import os\n",
    "from typing import Literal, Any\n",
    "from pathlib import Path\n",
    "import sqlite3\n",
    "import json\n",
    "from enum import Enum\n",
    "\n",
    "class AdvEnum(Enum):\n",
    "    def __new__(cls, *args, **kwds):\n",
    "        obj = object.__new__(cls)\n",
    "        obj._value_ = args[0]\n",
    "        return obj\n",
    "    \n",
    "    def __str__(self) -> str:\n",
    "        default = super().__str__()\n",
    "        start = default.find(self.name)\n",
    "        return default[start:]\n",
    "\n",
    "STAR: Literal['*'] = '*'\n",
    "class SqlDType(Enum):\n",
    "    TEXT = 'TEXT'\n",
    "    INT = 'INTEGER'\n",
    "    REAL = 'REAL'\n",
    "\n",
    "LX_DIR = \".lx\"\n",
    "class Project:\n",
    "    class Tables(AdvEnum):\n",
    "        def __init__(self, val, fields) -> None:\n",
    "            self.fields = [(k, d) for k, d in fields]\n",
    "            self._sql = f\"\"\"\\\n",
    "            CREATE TABLE IF NOT EXISTS {self._table_data} (\n",
    "                key TEXT,\n",
    "                value TEXT,\n",
    "                PRIMARY KEY key\n",
    "            \n",
    "            \"\"\"\n",
    "\n",
    "        DATA = \"data\", [(\"k\", SqlDType.TEXT)]\n",
    "        EX = \"executions\", [(\"k\", SqlDType.TEXT)]\n",
    "\n",
    "    def __init__(self, workspace: Path|str) -> None:\n",
    "        workspace = Path(workspace)\n",
    "        self._lx_dir = workspace.joinpath(LX_DIR)\n",
    "        if not self._lx_dir.exists(): os.makedirs(self._lx_dir, exist_ok=True)\n",
    "        self._con: sqlite3.Connection|None = None\n",
    "        self._cur: sqlite3.Cursor|None = None\n",
    "\n",
    "    def __enter__(self):\n",
    "        self._con = sqlite3.connect(self._lx_dir.joinpath(\"state.db\"))\n",
    "        self._cur = self._con.cursor()\n",
    "        for table in self.Tables:\n",
    "            self._execute(f\"\"\"\\\n",
    "                CREATE TABLE IF NOT EXISTS {self._table_data} (\n",
    "                    key TEXT,\n",
    "                    value TEXT,\n",
    "                    PRIMARY KEY key\n",
    "                )\n",
    "            \"\"\")\n",
    "        return self\n",
    "\n",
    "    def __exit__(self, exc_type, exc_val, exc_tb):\n",
    "        print(exc_type, exc_val, exc_tb)\n",
    "        if self._cur is not None: self._cur.close()\n",
    "        if self._con is not None: self._con.close()\n",
    "\n",
    "    def _execute(self, sql: str, values: tuple|None=None):\n",
    "        assert self._cur is not None\n",
    "        return self._cur.execute(sql) if values is None else self._cur.execute(sql, values)\n",
    "\n",
    "    def _insert(self, key: str, val: dict):\n",
    "        sval = json.dumps(val, separators=(\",\", \":\"))\n",
    "        self._execute(f\"\"\"\\\n",
    "            INSERT INTO {self._table_data_manifest} (key, value) VALUES (?, ?)\n",
    "        \"\"\", (key, sval))\n",
    "\n",
    "    def RegisterDataInstance(self, dtype: str, value: Any):\n",
    "        pass\n",
    "        \n",
    "with Project(\"./cache/man_test01\") as p:\n",
    "    p.RegisterDataInstance(\"test\", \"x\")\n",
    "    for i in range(int(1e5)):\n",
    "        print(f\"\\r{i}\", end=\"\")\n",
    "        c = p._con.cursor()\n",
    "    print()"
   ]
  },
  {
   "cell_type": "code",
   "execution_count": null,
   "metadata": {},
   "outputs": [],
   "source": [
    "class DataType:\n",
    "    def __init__(self, attributes:Iterable[str]) -> None:\n",
    "        self.Attributes: set[str] = set(attributes)\n",
    "\n",
    "    def __eq__(self, __value: object) -> bool:\n",
    "        if not isinstance(__value, type(self)): return False\n",
    "        return __value.Attributes.issubset(self.Attributes)\n",
    "\n",
    "    def __str__(self) -> str:\n",
    "        return json.dumps(self.Attributes)\n",
    "\n",
    "    def __repr__(self) -> str:\n",
    "        return f\"DT:{self}\""
   ]
  }
 ],
 "metadata": {
  "kernelspec": {
   "display_name": "p311",
   "language": "python",
   "name": "python3"
  },
  "language_info": {
   "codemirror_mode": {
    "name": "ipython",
    "version": 3
   },
   "file_extension": ".py",
   "mimetype": "text/x-python",
   "name": "python",
   "nbconvert_exporter": "python",
   "pygments_lexer": "ipython3",
   "version": "3.11.0"
  },
  "orig_nbformat": 4
 },
 "nbformat": 4,
 "nbformat_minor": 2
}
